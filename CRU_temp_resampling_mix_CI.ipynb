{
 "cells": [
  {
   "cell_type": "code",
   "execution_count": 100,
   "metadata": {
    "collapsed": true
   },
   "outputs": [],
   "source": [
    "from netCDF4 import Dataset, num2date, date2num\n",
    "import numpy as np\n",
    "import datetime as dt\n",
    "from datetime import datetime, timedelta\n",
    "from matplotlib import pyplot as plt\n",
    "import random\n",
    "get_ipython().magic(u'matplotlib inline')"
   ]
  },
  {
   "cell_type": "code",
   "execution_count": 101,
   "metadata": {},
   "outputs": [
    {
     "name": "stdout",
     "output_type": "stream",
     "text": [
      "(u'time', (176,))\n",
      "(u'lon', (80,))\n",
      "(u'lat', (70,))\n",
      "(u'anom', (176, 70, 80))\n"
     ]
    }
   ],
   "source": [
    "# ## Read CRU composite data\n",
    "nc =Dataset ('/Users/kwesi/Downloads/combinations/mix_all/new/cru_tmp_mon_81-13_mix9.std.rc123A.nc', 'r')\n",
    "for i in nc.variables:\n",
    "    print(i,nc.variables[i].shape)\n",
    "    "
   ]
  },
  {
   "cell_type": "code",
   "execution_count": 102,
   "metadata": {
    "collapsed": true
   },
   "outputs": [],
   "source": [
    "# Read variables and close the file\n",
    "lon = nc.variables['lon'][:]\n",
    "lat = nc.variables['lat'][:]\n",
    "tempmean = nc.variables['anom'][:]\n",
    "ntime = nc.variables['time'][:]\n",
    "nc.close()"
   ]
  },
  {
   "cell_type": "code",
   "execution_count": 103,
   "metadata": {},
   "outputs": [
    {
     "name": "stdout",
     "output_type": "stream",
     "text": [
      "(176, 70, 80)\n",
      "(176, 70, 80)\n"
     ]
    }
   ],
   "source": [
    "d = np.array(tempmean)\n",
    "d[d>10000]=np.nan\n",
    "#print(d[d>10000])\n",
    "print d.shape\n",
    "\n",
    "d1=d\n",
    "ndat=d1.shape[0]\n",
    "print d1.shape"
   ]
  },
  {
   "cell_type": "code",
   "execution_count": 104,
   "metadata": {},
   "outputs": [
    {
     "name": "stdout",
     "output_type": "stream",
     "text": [
      "(10000, 70, 80)\n"
     ]
    }
   ],
   "source": [
    "iters = 10000\n",
    "shape = [iters]\n",
    "shape.extend(d1.shape[1:])\n",
    "means = np.zeros(shape, dtype=np.float32)\n",
    "\n",
    "for i in range(10000):\n",
    "    indices = np.random.choice(ndat, ndat)\n",
    "    means[i] = d1[indices,:].mean(axis=0)\n",
    "    \n",
    "print means.shape"
   ]
  },
  {
   "cell_type": "code",
   "execution_count": 105,
   "metadata": {},
   "outputs": [
    {
     "name": "stdout",
     "output_type": "stream",
     "text": [
      "(2, 70, 80)\n"
     ]
    }
   ],
   "source": [
    "percentiles=np.nanpercentile(means, [5, 95], axis=0)\n",
    "print percentiles.shape\n",
    "lower=percentiles[0,:]\n",
    "upper=percentiles[1,:]"
   ]
  },
  {
   "cell_type": "code",
   "execution_count": 106,
   "metadata": {},
   "outputs": [],
   "source": [
    "#pctrange=upper-lower\n",
    "#plt.plot(pctrange[40,:])\n",
    "#print pctrange.shape"
   ]
  },
  {
   "cell_type": "code",
   "execution_count": 107,
   "metadata": {},
   "outputs": [
    {
     "data": {
      "text/plain": [
       "<type 'netCDF4._netCDF4.Dimension'>: name = 'lat', size = 70"
      ]
     },
     "execution_count": 107,
     "metadata": {},
     "output_type": "execute_result"
    }
   ],
   "source": [
    "ncdataset=Dataset(\"cru_temp_90pctl_mix9a_CI.nc\", \"w\", format='NETCDF4_CLASSIC')\n",
    "ncdataset.createDimension('lon', len(lon))\n",
    "ncdataset.createDimension('lat', len(lat))\n",
    "#ncdataset.createDimension('time', 5600)"
   ]
  },
  {
   "cell_type": "code",
   "execution_count": 108,
   "metadata": {
    "collapsed": true
   },
   "outputs": [],
   "source": [
    "longitudes = ncdataset.createVariable('lon',np.float32, ('lon',))\n",
    "latitudes  = ncdataset.createVariable('lat',np.float32, ('lat',))\n",
    "#time  = ncdataset.createVariable('time',np.float32, ('time',))"
   ]
  },
  {
   "cell_type": "code",
   "execution_count": 109,
   "metadata": {
    "collapsed": true
   },
   "outputs": [],
   "source": [
    "longitudes[:]=lon[:]\n",
    "latitudes[:]=lat[:]\n",
    "#time[:]=np.arange(1,5601)"
   ]
  },
  {
   "cell_type": "code",
   "execution_count": 110,
   "metadata": {},
   "outputs": [],
   "source": [
    "var1=ncdataset.createVariable('lower',np.float32,('lat', 'lon',))\n",
    "var2=ncdataset.createVariable('upper',np.float32,('lat', 'lon',))\n",
    "var1[:,:]=lower\n",
    "var2[:,:]=upper\n",
    "ncdataset.close()"
   ]
  }
 ],
 "metadata": {
  "kernelspec": {
   "display_name": "Python 2",
   "language": "python",
   "name": "python2"
  },
  "language_info": {
   "codemirror_mode": {
    "name": "ipython",
    "version": 2
   },
   "file_extension": ".py",
   "mimetype": "text/x-python",
   "name": "python",
   "nbconvert_exporter": "python",
   "pygments_lexer": "ipython2",
   "version": "2.7.15"
  }
 },
 "nbformat": 4,
 "nbformat_minor": 2
}
