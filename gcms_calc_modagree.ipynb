{
 "cells": [
  {
   "cell_type": "markdown",
   "metadata": {},
   "source": [
    "### Script calculates model agreement and writes to a netcdf for precipitation and temperature. \n",
    "\n",
    "#### By: Kwesi A. Quagraine (2019)\n"
   ]
  },
  {
   "cell_type": "code",
   "execution_count": 4,
   "metadata": {},
   "outputs": [],
   "source": [
    "from netCDF4 import Dataset\n",
    "import numpy as np\n",
    "from matplotlib import pyplot as plt\n",
    "#import sys"
   ]
  },
  {
   "cell_type": "code",
   "execution_count": 6,
   "metadata": {},
   "outputs": [
    {
     "name": "stdout",
     "output_type": "stream",
     "text": [
      "(8, 61, 54)\n"
     ]
    },
    {
     "ename": "SystemExit",
     "evalue": "",
     "output_type": "error",
     "traceback": [
      "An exception has occurred, use %tb to see the full traceback.\n",
      "\u001b[0;31mSystemExit\u001b[0m\n"
     ]
    },
    {
     "name": "stderr",
     "output_type": "stream",
     "text": [
      "/home/kwesi/miniconda3/envs/ncl_notebook/lib/python3.6/site-packages/IPython/core/interactiveshell.py:2969: UserWarning: To exit: use 'exit', 'quit', or Ctrl-D.\n",
      "  warn(\"To exit: use 'exit', 'quit', or Ctrl-D.\", stacklevel=1)\n"
     ]
    }
   ],
   "source": [
    "#location of temperature files and output of model agreement\n",
    "datadir = '/home/kwesi/terra/research/CMIP5_models/cmip5_smhi/id_modes/'\n",
    "outdir='/home/kwesi/terra/research/paper2/precip/'\n",
    "\n",
    "\n",
    "#model agreement function\n",
    "def ano_agree(indata,outdata):\n",
    "    nc = Dataset(indata, mode='r')\n",
    "\n",
    "    # Read variables and close the file\n",
    "    lon = nc.variables['lon'][:] \n",
    "    lat = nc.variables['lat'][:] \n",
    "    nodes = nc.variables['anom'][:][0,:,:,:]\n",
    "    nc.close()\n",
    "\n",
    "    print(nodes.shape)\n",
    "    #sys.exit\n",
    "    \n",
    "    mean_ano=np.mean(nodes, 0)\n",
    "    number_above0 = np.sum(nodes>0,0)\n",
    "    number_below0 = np.sum(nodes<=0,0)\n",
    "    \n",
    "    #print(number_above0.shape)\n",
    "    output=np.copy(number_above0)\n",
    "    output[mean_ano<0]=number_below0[mean_ano<0]\n",
    "    output=100*output/nodes.shape[0]\n",
    "    #return(output)\n",
    "    print(output.shape)\n",
    "    \n",
    "    #save variable to netcdf file\n",
    "    ncdataset=Dataset(outdata , \"w\", format='NETCDF4_CLASSIC')\n",
    "    ncdataset.createDimension('lon', len(lon))\n",
    "    ncdataset.createDimension('lat', len(lat))\n",
    "\n",
    "    longitudes = ncdataset.createVariable('lon',np.float32, ('lon',))\n",
    "    latitudes  = ncdataset.createVariable('lat',np.float32, ('lat',))\n",
    "\n",
    "    latitudes.long_name = \"latitude\" ;\n",
    "    latitudes.units = \"degrees_north\" ;\n",
    "    longitudes.long_name = \"longitude\" ;\n",
    "    longitudes.units = \"degrees_east\" ;\n",
    "\n",
    "    longitudes[:]=lon\n",
    "    latitudes[:]=lat\n",
    "\n",
    "    var=ncdataset.createVariable('anom_agree',np.float32,('lat', 'lon',))\n",
    "    var[:,:]=output\n",
    "    ncdataset.close()\n",
    "\n",
    "states = {1: 'cond_1', 2: 'cond_2', 3: 'cond_3', 4: 'cond_4',\n",
    "          5: 'cond_5', 6: 'cond_6', 7: 'cond_7', 8: 'cond_8'}\n",
    "\n",
    "for i in states:\n",
    "    ano_agree(datadir + '%s_merge_precip_tmean.nc' %states[i], \n",
    "              outdir + '%s_merge_precip_tm_agree.nc' %states[i])\n"
   ]
  },
  {
   "cell_type": "code",
   "execution_count": 36,
   "metadata": {},
   "outputs": [
    {
     "name": "stdout",
     "output_type": "stream",
     "text": [
      "(61, 54)\n",
      "(61, 54)\n",
      "(61, 54)\n",
      "(61, 54)\n",
      "(61, 54)\n",
      "(61, 54)\n",
      "(61, 54)\n",
      "(61, 54)\n"
     ]
    }
   ],
   "source": [
    "#location of temperature files and output of model agreement\n",
    "datadir = '/home/kwesi/terra/research/CMIP5_models/cmip5_smhi/id_modes/'\n",
    "outdir='/home/kwesi/terra/research/paper2/temp/'\n",
    "\n",
    "#model agreement function\n",
    "def ano_agree(indata,outdata):\n",
    "    nc = Dataset(indata, mode='r')\n",
    "\n",
    "    # Read variables and close the file\n",
    "    lon = nc.variables['lon'][:] \n",
    "    lat = nc.variables['lat'][:] \n",
    "    nodes = nc.variables['anom'][:][0,:,:,:]\n",
    "    nc.close()\n",
    "\n",
    "    #print(nodes.shape)\n",
    "    \n",
    "    mean_ano=np.mean(nodes, 0)\n",
    "    number_above0 = np.sum(nodes>0,0)\n",
    "    number_below0 = np.sum(nodes<=0,0)\n",
    "    \n",
    "    #print(number_above0.shape)\n",
    "    output=np.copy(number_above0)\n",
    "    output[mean_ano<0]=number_below0[mean_ano<0]\n",
    "    output=100*output/nodes.shape[0]\n",
    "    #return(output)\n",
    "    print(output.shape)\n",
    "    \n",
    "    #save variable to netcdf file\n",
    "    ncdataset=Dataset(outdata , \"w\", format='NETCDF4_CLASSIC')\n",
    "    ncdataset.createDimension('lon', len(lon))\n",
    "    ncdataset.createDimension('lat', len(lat))\n",
    "\n",
    "    longitudes = ncdataset.createVariable('lon',np.float32, ('lon',))\n",
    "    latitudes  = ncdataset.createVariable('lat',np.float32, ('lat',))\n",
    "\n",
    "    latitudes.long_name = \"latitude\" ;\n",
    "    latitudes.units = \"degrees_north\" ;\n",
    "    longitudes.long_name = \"longitude\" ;\n",
    "    longitudes.units = \"degrees_east\" ;\n",
    "\n",
    "    longitudes[:]=lon\n",
    "    latitudes[:]=lat\n",
    "\n",
    "    var=ncdataset.createVariable('anom_agree',np.float32,('lat', 'lon',))\n",
    "    var[:,:]=output\n",
    "    ncdataset.close()\n",
    "\n",
    "states = {1: 'cond_1', 2: 'cond_2', 3: 'cond_3', 4: 'cond_4',\n",
    "          5: 'cond_5', 6: 'cond_6', 7: 'cond_7', 8: 'cond_8'}\n",
    "\n",
    "for i in states:\n",
    "    ano_agree(datadir + '%s_merge_temp_tmean.nc' %states[i], \n",
    "              outdir + '%s_merge_temp_tm_agree.nc' %states[i])\n"
   ]
  },
  {
   "cell_type": "code",
   "execution_count": null,
   "metadata": {},
   "outputs": [],
   "source": []
  }
 ],
 "metadata": {
  "kernelspec": {
   "display_name": "Python 3",
   "language": "python",
   "name": "python3"
  },
  "language_info": {
   "codemirror_mode": {
    "name": "ipython",
    "version": 3
   },
   "file_extension": ".py",
   "mimetype": "text/x-python",
   "name": "python",
   "nbconvert_exporter": "python",
   "pygments_lexer": "ipython3",
   "version": "3.6.8"
  }
 },
 "nbformat": 4,
 "nbformat_minor": 2
}
