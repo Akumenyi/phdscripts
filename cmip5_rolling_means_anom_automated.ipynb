{
 "cells": [
  {
   "cell_type": "markdown",
   "metadata": {},
   "source": [
    "### This script calculates rolling mean anomalies of CMIP5 models"
   ]
  },
  {
   "cell_type": "code",
   "execution_count": 6,
   "metadata": {},
   "outputs": [],
   "source": [
    "from netCDF4 import Dataset, num2date, date2num\n",
    "import numpy as np\n",
    "#import matplotlib.pyplot as plt\n",
    "from mpl_toolkits.basemap import Basemap, cm, shiftgrid, addcyclic\n",
    "import datetime as dt\n",
    "from datetime import datetime, timedelta\n",
    "get_ipython().magic(u'matplotlib inline')"
   ]
  },
  {
   "cell_type": "code",
   "execution_count": 7,
   "metadata": {},
   "outputs": [],
   "source": [
    "### Define directories\n",
    "datadir = '/Volumes/Maxtor/CMIP5_models/test_data/'\n",
    "outdir = '/Volumes/Maxtor/CMIP5_models/test_data/rollanom_data/'"
   ]
  },
  {
   "cell_type": "code",
   "execution_count": 8,
   "metadata": {},
   "outputs": [
    {
     "name": "stdout",
     "output_type": "stream",
     "text": [
      "\n",
      "----Rolling Anomalies for CMIP5 models - 10/17/2018----\n"
     ]
    }
   ],
   "source": [
    "### Define time           \n",
    "now = datetime.now()\n",
    "currentmn = str(now.month)\n",
    "currentdy = str(now.day)\n",
    "currentyr = str(now.year)\n",
    "currenttime = currentmn + '_' + currentdy + '_' + currentyr\n",
    "titletime = currentmn + '/' + currentdy + '/' + currentyr\n",
    "print('\\n' '----Rolling Anomalies for CMIP5 models - %s----' % titletime) "
   ]
  },
  {
   "cell_type": "markdown",
   "metadata": {},
   "source": [
    "### For IPSL-CM5A-LR"
   ]
  },
  {
   "cell_type": "code",
   "execution_count": 9,
   "metadata": {},
   "outputs": [],
   "source": [
    "my_nc_file = datadir + 'SAfr_pr_day_IPSL-CM5A-LR_historical_r1i1p1_19720101-20041231_mon_mmday_lonlat.nc'\n",
    "fh = Dataset(my_nc_file, mode='r')\n",
    "\n",
    "\n",
    "# Read variables and close the file\n",
    "lon = fh.variables['lon'][:] \n",
    "lat = fh.variables['lat'][:] \n",
    "prmean = fh.variables['pr'][:]\n",
    "ntime = fh.variables['time'][:]\n",
    "fh.close()"
   ]
  },
  {
   "cell_type": "code",
   "execution_count": 10,
   "metadata": {},
   "outputs": [
    {
     "name": "stdout",
     "output_type": "stream",
     "text": [
      "(396, 181, 158)\n"
     ]
    }
   ],
   "source": [
    "print(prmean.shape)"
   ]
  },
  {
   "cell_type": "code",
   "execution_count": 11,
   "metadata": {},
   "outputs": [],
   "source": [
    "#We reshape the data into (year,month,lon,lat) to make it easier, 396/12 = 33 years\n",
    "nl=prmean.shape[0]"
   ]
  },
  {
   "cell_type": "code",
   "execution_count": 12,
   "metadata": {},
   "outputs": [],
   "source": [
    "rolling=np.ma.empty((nl-2,181,158))"
   ]
  },
  {
   "cell_type": "code",
   "execution_count": 13,
   "metadata": {},
   "outputs": [
    {
     "data": {
      "text/plain": [
       "(394, 181, 158)"
      ]
     },
     "execution_count": 13,
     "metadata": {},
     "output_type": "execute_result"
    }
   ],
   "source": [
    "rolling.shape"
   ]
  },
  {
   "cell_type": "markdown",
   "metadata": {},
   "source": [
    "#### Calculate rolling window anomalies"
   ]
  },
  {
   "cell_type": "code",
   "execution_count": 14,
   "metadata": {},
   "outputs": [],
   "source": [
    "mt=3\n",
    "for i in range(0,nl-2):\n",
    "    rolling[i,:,:]=np.ma.mean(prmean[i:mt+i,:,:],axis=0)\n",
    "\n",
    "avg=np.ma.empty((12,181,158)) # empty array to store the results\n",
    "for m in range(0,12):\n",
    "    avg[m,:,:]= np.ma.mean(rolling[m::12,:,:],axis=0)\n",
    "\n",
    "anom=np.ma.empty(rolling.shape) # empty array to store the results\n",
    "for m in range(0,nl-2):\n",
    "    anom[m,:,:]= rolling[m,:,:]-avg[m%12,:,:]\n",
    "    "
   ]
  },
  {
   "cell_type": "markdown",
   "metadata": {},
   "source": [
    "#### Save variable into netcdf file format"
   ]
  },
  {
   "cell_type": "code",
   "execution_count": 15,
   "metadata": {},
   "outputs": [],
   "source": [
    "ncdataset=Dataset(outdir + 'SAfr_pr_day_IPSL-CM5A-LR_historical_r1i1p1_19720101-20041231_mon_mmday_roll.nc',\n",
    "                  \"w\", format='NETCDF4_CLASSIC')\n",
    "ncdataset.createDimension('lon', len(lon))\n",
    "ncdataset.createDimension('lat', len(lat))\n",
    "ncdataset.createDimension('time', 394)\n",
    "\n",
    "longitudes = ncdataset.createVariable('lon',np.float32, ('lon',))\n",
    "latitudes  = ncdataset.createVariable('lat',np.float32, ('lat',))\n",
    "time  = ncdataset.createVariable('time',np.float32, ('time',))\n",
    "\n",
    "latitudes.long_name = \"latitude\" ;\n",
    "latitudes.units = \"degrees_north\" ;\n",
    "longitudes.long_name = \"longitude\" ;\n",
    "longitudes.units = \"degrees_east\" ;\n",
    "\n",
    "longitudes[:]=lon\n",
    "latitudes[:]=lat\n",
    "time[:]=np.arange(1,395)\n",
    "\n",
    "var=ncdataset.createVariable('anom',np.float32,('time','lat', 'lon',))\n",
    "var[:,:,:]=anom\n",
    "ncdataset.close()"
   ]
  },
  {
   "cell_type": "markdown",
   "metadata": {},
   "source": [
    "### For HadGEM2-ES"
   ]
  },
  {
   "cell_type": "code",
   "execution_count": 16,
   "metadata": {},
   "outputs": [],
   "source": [
    "my_nc_file = datadir + 'SAfr_pr_day_HadGEM2-ES_historical_r1i1p1_19720101_20041231_mon_mmday_lonlat.nc'\n",
    "fh = Dataset(my_nc_file, mode='r')\n",
    "\n",
    "\n",
    "# Read variables and close the file\n",
    "lon = fh.variables['lon'][:] \n",
    "lat = fh.variables['lat'][:] \n",
    "prmean = fh.variables['pr'][:]\n",
    "ntime = fh.variables['time'][:]\n",
    "fh.close()"
   ]
  },
  {
   "cell_type": "code",
   "execution_count": 17,
   "metadata": {},
   "outputs": [
    {
     "name": "stdout",
     "output_type": "stream",
     "text": [
      "(396, 181, 158)\n"
     ]
    }
   ],
   "source": [
    "print(prmean.shape)"
   ]
  },
  {
   "cell_type": "code",
   "execution_count": 18,
   "metadata": {},
   "outputs": [],
   "source": [
    "#We reshape the data into (year,month,lon,lat) to make it easier, 396/12 = 33 years\n",
    "nl=prmean.shape[0]"
   ]
  },
  {
   "cell_type": "code",
   "execution_count": 19,
   "metadata": {},
   "outputs": [],
   "source": [
    "rolling=np.ma.empty((nl-2,181,158))"
   ]
  },
  {
   "cell_type": "code",
   "execution_count": 20,
   "metadata": {},
   "outputs": [
    {
     "data": {
      "text/plain": [
       "(394, 181, 158)"
      ]
     },
     "execution_count": 20,
     "metadata": {},
     "output_type": "execute_result"
    }
   ],
   "source": [
    "rolling.shape"
   ]
  },
  {
   "cell_type": "markdown",
   "metadata": {},
   "source": [
    "#### Calculate rolling window anomalies\n"
   ]
  },
  {
   "cell_type": "code",
   "execution_count": 21,
   "metadata": {},
   "outputs": [],
   "source": [
    "mt=3\n",
    "for i in range(0,nl-2):\n",
    "    rolling[i,:,:]=np.ma.mean(prmean[i:mt+i,:,:],axis=0)\n",
    "\n",
    "avg=np.ma.empty((12,181,158)) # empty array to store the results\n",
    "for m in range(0,12):\n",
    "    avg[m,:,:]= np.ma.mean(rolling[m::12,:,:],axis=0)\n",
    "\n",
    "anom=np.ma.empty(rolling.shape) # empty array to store the results\n",
    "for m in range(0,nl-2):\n",
    "    anom[m,:,:]= rolling[m,:,:]-avg[m%12,:,:]\n",
    "    "
   ]
  },
  {
   "cell_type": "markdown",
   "metadata": {},
   "source": [
    "#### Save variable into netcdf file format "
   ]
  },
  {
   "cell_type": "code",
   "execution_count": 22,
   "metadata": {},
   "outputs": [],
   "source": [
    "ncdataset=Dataset(outdir + 'SAfr_pr_day_HadGEM2-ES_historical_r1i1p1_19720101_20041231_mon_mmday_roll.nc',\n",
    "                  \"w\", format='NETCDF4_CLASSIC')\n",
    "ncdataset.createDimension('lon', len(lon))\n",
    "ncdataset.createDimension('lat', len(lat))\n",
    "ncdataset.createDimension('time', 394)\n",
    "\n",
    "longitudes = ncdataset.createVariable('lon',np.float32, ('lon',))\n",
    "latitudes  = ncdataset.createVariable('lat',np.float32, ('lat',))\n",
    "time  = ncdataset.createVariable('time',np.float32, ('time',))\n",
    "\n",
    "latitudes.long_name = \"latitude\" ;\n",
    "latitudes.units = \"degrees_north\" ;\n",
    "longitudes.long_name = \"longitude\" ;\n",
    "longitudes.units = \"degrees_east\" ;\n",
    "\n",
    "longitudes[:]=lon\n",
    "latitudes[:]=lat\n",
    "time[:]=np.arange(1,395)\n",
    "\n",
    "var=ncdataset.createVariable('anom',np.float32,('time','lat', 'lon',))\n",
    "var[:,:,:]=anom\n",
    "ncdataset.close()"
   ]
  },
  {
   "cell_type": "markdown",
   "metadata": {},
   "source": [
    "### For GFDL-ESM2G"
   ]
  },
  {
   "cell_type": "code",
   "execution_count": 23,
   "metadata": {},
   "outputs": [],
   "source": [
    "my_nc_file = datadir + 'SAfr_pr_day_GFDL-ESM2G_historical_r1i1p1_19720101_20041231_mon_mmday_lonlat.nc'\n",
    "fh = Dataset(my_nc_file, mode='r')\n",
    "\n",
    "\n",
    "# Read variables and close the file\n",
    "lon = fh.variables['lon'][:] \n",
    "lat = fh.variables['lat'][:] \n",
    "prmean = fh.variables['pr'][:]\n",
    "ntime = fh.variables['time'][:]\n",
    "fh.close()"
   ]
  },
  {
   "cell_type": "code",
   "execution_count": 24,
   "metadata": {},
   "outputs": [
    {
     "name": "stdout",
     "output_type": "stream",
     "text": [
      "(396, 181, 158)\n"
     ]
    }
   ],
   "source": [
    "print(prmean.shape)"
   ]
  },
  {
   "cell_type": "code",
   "execution_count": 25,
   "metadata": {},
   "outputs": [],
   "source": [
    "#We reshape the data into (year,month,lon,lat) to make it easier, 396/12 = 33 years\n",
    "nl=prmean.shape[0]"
   ]
  },
  {
   "cell_type": "code",
   "execution_count": 26,
   "metadata": {},
   "outputs": [],
   "source": [
    "rolling=np.ma.empty((nl-2,181,158))"
   ]
  },
  {
   "cell_type": "code",
   "execution_count": 27,
   "metadata": {},
   "outputs": [
    {
     "data": {
      "text/plain": [
       "(394, 181, 158)"
      ]
     },
     "execution_count": 27,
     "metadata": {},
     "output_type": "execute_result"
    }
   ],
   "source": [
    "rolling.shape"
   ]
  },
  {
   "cell_type": "markdown",
   "metadata": {},
   "source": [
    "#### Calculating rolling anomalies"
   ]
  },
  {
   "cell_type": "code",
   "execution_count": 28,
   "metadata": {},
   "outputs": [],
   "source": [
    "mt=3\n",
    "for i in range(0,nl-2):\n",
    "    rolling[i,:,:]=np.ma.mean(prmean[i:mt+i,:,:],axis=0)\n",
    "\n",
    "avg=np.ma.empty((12,181,158)) # empty array to store the results\n",
    "for m in range(0,12):\n",
    "    avg[m,:,:]= np.ma.mean(rolling[m::12,:,:],axis=0)\n",
    "\n",
    "anom=np.ma.empty(rolling.shape) # empty array to store the results\n",
    "for m in range(0,nl-2):\n",
    "    anom[m,:,:]= rolling[m,:,:]-avg[m%12,:,:]\n",
    "    "
   ]
  },
  {
   "cell_type": "markdown",
   "metadata": {},
   "source": [
    "#### Save variable into netcdf file format"
   ]
  },
  {
   "cell_type": "code",
   "execution_count": 29,
   "metadata": {},
   "outputs": [],
   "source": [
    "ncdataset=Dataset(outdir + 'SAfr_pr_day_GFDL-ESM2G_historical_r1i1p1_19720101_20041231_mon_mmday_roll.nc',\n",
    "                  \"w\", format='NETCDF4_CLASSIC')\n",
    "ncdataset.createDimension('lon', len(lon))\n",
    "ncdataset.createDimension('lat', len(lat))\n",
    "ncdataset.createDimension('time', 394)\n",
    "\n",
    "longitudes = ncdataset.createVariable('lon',np.float32, ('lon',))\n",
    "latitudes  = ncdataset.createVariable('lat',np.float32, ('lat',))\n",
    "time  = ncdataset.createVariable('time',np.float32, ('time',))\n",
    "\n",
    "latitudes.long_name = \"latitude\" ;\n",
    "latitudes.units = \"degrees_north\" ;\n",
    "longitudes.long_name = \"longitude\" ;\n",
    "longitudes.units = \"degrees_east\" ;\n",
    "\n",
    "longitudes[:]=lon\n",
    "latitudes[:]=lat\n",
    "time[:]=np.arange(1,395)\n",
    "\n",
    "var=ncdataset.createVariable('anom',np.float32,('time','lat', 'lon',))\n",
    "var[:,:,:]=anom\n",
    "ncdataset.close()"
   ]
  },
  {
   "cell_type": "code",
   "execution_count": 30,
   "metadata": {},
   "outputs": [
    {
     "name": "stdout",
     "output_type": "stream",
     "text": [
      "\n",
      "----Thanks for waiting! - 10/17/2018----\n"
     ]
    }
   ],
   "source": [
    "print('\\n' '----Thanks for waiting! - %s----' % titletime)"
   ]
  },
  {
   "cell_type": "code",
   "execution_count": null,
   "metadata": {},
   "outputs": [],
   "source": []
  }
 ],
 "metadata": {
  "kernelspec": {
   "display_name": "Python 2",
   "language": "python",
   "name": "python2"
  },
  "language_info": {
   "codemirror_mode": {
    "name": "ipython",
    "version": 2
   },
   "file_extension": ".py",
   "mimetype": "text/x-python",
   "name": "python",
   "nbconvert_exporter": "python",
   "pygments_lexer": "ipython2",
   "version": "2.7.15"
  }
 },
 "nbformat": 4,
 "nbformat_minor": 2
}
